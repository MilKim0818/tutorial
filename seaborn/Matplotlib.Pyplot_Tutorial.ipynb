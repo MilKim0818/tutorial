{
 "cells": [
  {
   "cell_type": "code",
   "execution_count": null,
   "metadata": {},
   "outputs": [],
   "source": [
    "import numpy as np\n",
    "import matplotlib.pyplot as plt\n",
    "%matplotlib inline"
   ]
  },
  {
   "attachments": {},
   "cell_type": "markdown",
   "metadata": {},
   "source": [
    "# Pyplot tutorial\n",
    "## Introduction to pyplot\n",
    "matplotlib.pyplot은 matplotlib을 MATLAB처럼 작동하게 하는 함수의 모음입니다.  \n",
    "각 pyplot 함수는 그림을 만들고, 그림에 플롯 영역을 만들고, 플롯 영역에 일부 선을 그리고, 레이블로 플롯을 장식하는 등 그림에 약간의 변화를 줍니다.\n",
    "\n",
    "matplotlib.pyplot에서는 함수 호출 간에 다양한 상태가 유지되므로 현재 그림 및 플롯 영역과 같은 것을 추적하고 플롯 함수는 현재 축으로 향합니다.  \n",
    "(여기와 문서의 대부분의 위치에서 \"축\"은 그림의 축 부분을 의미하며 둘 이상의 축에 대한 엄격한 수학적 용어가 아님에 유의하세요)"
   ]
  },
  {
   "cell_type": "code",
   "execution_count": null,
   "metadata": {},
   "outputs": [],
   "source": [
    "# 파이플롯으로 시각화를 생성하는 것은 매우 빠릅니다.\n",
    "plt.plot([1, 2, 3, 4])\n",
    "plt.ylabel('some numbers')\n",
    "plt.show()"
   ]
  },
  {
   "attachments": {},
   "cell_type": "markdown",
   "metadata": {},
   "source": [
    "왜 x축의 범위가 0~3이고 y축의 범위가 1~4인지 궁금할 수 있습니다.  \n",
    "플롯할 단일 목록이나 배열을 제공하면 matplotlib은 이를 일련의 y 값으로 가정하고 자동으로 x 값을 생성합니다.  \n",
    "파이썬 범위는 0으로 시작하기 때문에 기본 x 벡터의 길이는 y와 같지만 0으로 시작하므로 x 데이터는 [0, 1, 2, 3]이 됩니다."
   ]
  },
  {
   "cell_type": "code",
   "execution_count": null,
   "metadata": {},
   "outputs": [],
   "source": [
    "# plot\n",
    "# 다용도 함수이며 임의의 수의 인수를 사용할 수 있습니다. 예를 들어, x와 y를 플롯할 수 있습니다.\n",
    "plt.plot([1, 2, 3, 4], [1, 4, 9, 16]);"
   ]
  },
  {
   "attachments": {},
   "cell_type": "markdown",
   "metadata": {},
   "source": [
    "## Formatting the style of your plot (플롯 스타일 서식 지정하기)\n",
    "모든 x, y 인수 쌍에 대해 선택적 세 번째 인수가 있는데, 이는 플롯의 색상 및 선 유형을 나타내는 형식 문자열입니다.  \n",
    "서식 문자열의 문자와 기호는 MATLAB에서 가져온 것이며, 색상 문자열을 선 스타일 문자열과 연결합니다.  \n",
    "기본 서식 문자열은 파란색 실선인 'b-'입니다. 예를 들어 위의 그림을 빨간색 원으로 그리려면 다음을 실행합니다."
   ]
  },
  {
   "cell_type": "code",
   "execution_count": null,
   "metadata": {},
   "outputs": [],
   "source": [
    "plt.plot([1, 2, 3, 4], [1, 4, 9, 16], 'ro')\n",
    "plt.axis([0, 6, 0, 20])\n",
    "plt.show()"
   ]
  }
 ],
 "metadata": {
  "kernelspec": {
   "display_name": "base",
   "language": "python",
   "name": "python3"
  },
  "language_info": {
   "name": "python",
   "version": "3.9.13"
  },
  "orig_nbformat": 4
 },
 "nbformat": 4,
 "nbformat_minor": 2
}
